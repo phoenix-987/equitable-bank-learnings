{
 "cells": [
  {
   "cell_type": "markdown",
   "metadata": {},
   "source": [
    "### DataDog Architecture\n"
   ]
  },
  {
   "cell_type": "markdown",
   "metadata": {},
   "source": [
    "##### AGENTS ----> DataDog ----> Alerts (Slack, Email)"
   ]
  },
  {
   "cell_type": "markdown",
   "metadata": {},
   "source": [
    "- Agents reports the data to Datadog and then Datadog processes the information ad creates the dashboard, status pages to use and ivestigate the production issues. Then, Datadog will send over information to alerting mechanism like email, slack, pagerduty etc."
   ]
  },
  {
   "cell_type": "markdown",
   "metadata": {},
   "source": [
    "- Agents consists of 4 components - \n",
    "    1. SupervisorD (Manager, keeps everything up and running)\n",
    "    2. Collector (Gathers the metrics from laptop or any machine/server)\n",
    "    3. DogStatsD (Metrics are pulled and aggregates from software {python, java})\n",
    "    4. Forwarder (Sends the information to Datadog on the cloud)"
   ]
  },
  {
   "cell_type": "markdown",
   "metadata": {},
   "source": [
    "##### ApDex\n",
    "\n",
    "$$ apdex = (satisfied\\ requests\\ +\\ (tolerated\\ requests\\ /\\ 2))\\ /\\ total\\ requests $$"
   ]
  }
 ],
 "metadata": {
  "language_info": {
   "name": "python"
  }
 },
 "nbformat": 4,
 "nbformat_minor": 2
}
