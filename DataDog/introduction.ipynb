{
 "cells": [
  {
   "cell_type": "markdown",
   "metadata": {},
   "source": [
    "## DataDog"
   ]
  },
  {
   "cell_type": "markdown",
   "metadata": {},
   "source": [
    "- It is a Cloud service (SaaS).\n",
    "- Implementation of statsD in python with enhancement."
   ]
  },
  {
   "cell_type": "markdown",
   "metadata": {},
   "source": [
    "#### Application Performance Monitoring (APM)\n",
    "\n",
    "- APM is all about Monitoring.\n",
    "- It gives us a way to monitor backend like Database services (MySQL, MongoDB), NodeJS etc.\n",
    "- Datadog used to create Dashboard for monitoring part."
   ]
  },
  {
   "cell_type": "markdown",
   "metadata": {},
   "source": [
    "#### Real User Monitoring (RUM)\n",
    "- RUM is all about User Experience.\n",
    "- We can monitor the user at different location in real time.\n",
    "    - Like how the app is doing in these locations.\n",
    "    - How they deal with different amount of loads.\n",
    "- If any page in web app is not working then how to diagnose it."
   ]
  },
  {
   "cell_type": "markdown",
   "metadata": {},
   "source": [
    "#### Synthetic Monitoring\n",
    "- It is all about Mock Testing.\n",
    "- Let's understand with the example of a car.\n",
    "    - A crash testing occurs for a car to test its safety norms and how it can be improved after it is going live.\n",
    "    - We have to create a artificial user to test it (Mock)."
   ]
  },
  {
   "cell_type": "markdown",
   "metadata": {},
   "source": [
    "### Overall Architecture\n",
    "- APM : Monitor the Backend.\n",
    "- RUM : Monitor the user exerience.\n",
    "- Sythetic : Mock Tests.\n",
    "\n",
    "\n",
    "##### How it will help us?\n",
    "- Creating Monitor and Alarms - Alert when things go south (opposite/wrong).\n",
    "- Creating Dashboards - Monitor the user experience.\n",
    "- Creating KPI - Key Performance Experiences. (What things impacting the business)\n",
    "\n",
    "\n",
    "##### Other problems to deal with\n",
    "- Multiple platforms - Different behaviour on each platofrm.\n",
    "- All over the Globe - Everywhere (Different locations).\n",
    "- Connected - Presentation are communication tools."
   ]
  }
 ],
 "metadata": {
  "language_info": {
   "name": "python"
  }
 },
 "nbformat": 4,
 "nbformat_minor": 2
}
