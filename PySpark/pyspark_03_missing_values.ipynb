{
 "cells": [
  {
   "cell_type": "markdown",
   "metadata": {},
   "source": [
    "### Pyspark Handling Missing Values\n",
    "- Dropping Columns\n",
    "- Dropping Rows\n",
    "- Various Parameter in Dropping functionalities\n",
    "- Handling Missing values by Mean, Median and Mode"
   ]
  },
  {
   "cell_type": "code",
   "execution_count": 24,
   "metadata": {},
   "outputs": [],
   "source": [
    "from pyspark.sql import SparkSession\n",
    "spark = SparkSession.builder.config('spark.port.host', 'localhost').appName('practice').getOrCreate()"
   ]
  },
  {
   "cell_type": "code",
   "execution_count": 25,
   "metadata": {},
   "outputs": [],
   "source": [
    "df = spark.read.csv('table3.csv', header=True, inferSchema=True)"
   ]
  },
  {
   "cell_type": "code",
   "execution_count": 26,
   "metadata": {},
   "outputs": [
    {
     "name": "stdout",
     "output_type": "stream",
     "text": [
      "+-----+----+----------+------+\n",
      "| Name| Age|Experience|Salary|\n",
      "+-----+----+----------+------+\n",
      "|Alice|  30|         5| 60000|\n",
      "|  Bob|  28|         3| 50000|\n",
      "|Carol|  35|         8| 75000|\n",
      "|David|  32|      NULL| 65000|\n",
      "|Emily|  27|         2| 48000|\n",
      "|Frank|  40|        12| 90000|\n",
      "|Grace|NULL|         4|  NULL|\n",
      "|Henry|  33|         7| 70000|\n",
      "| NULL|  31|         5| 62000|\n",
      "| Jack|  26|         1|  NULL|\n",
      "+-----+----+----------+------+\n",
      "\n"
     ]
    }
   ],
   "source": [
    "df.show()"
   ]
  },
  {
   "cell_type": "code",
   "execution_count": 27,
   "metadata": {},
   "outputs": [
    {
     "name": "stdout",
     "output_type": "stream",
     "text": [
      "+----+----------+------+\n",
      "| Age|Experience|Salary|\n",
      "+----+----------+------+\n",
      "|  30|         5| 60000|\n",
      "|  28|         3| 50000|\n",
      "|  35|         8| 75000|\n",
      "|  32|      NULL| 65000|\n",
      "|  27|         2| 48000|\n",
      "|  40|        12| 90000|\n",
      "|NULL|         4|  NULL|\n",
      "|  33|         7| 70000|\n",
      "|  31|         5| 62000|\n",
      "|  26|         1|  NULL|\n",
      "+----+----------+------+\n",
      "\n"
     ]
    }
   ],
   "source": [
    "# Drop the columns\n",
    "drop_df = df.drop('Name')\n",
    "drop_df.show()"
   ]
  },
  {
   "cell_type": "code",
   "execution_count": 28,
   "metadata": {},
   "outputs": [
    {
     "name": "stdout",
     "output_type": "stream",
     "text": [
      "+-----+---+----------+------+\n",
      "| Name|Age|Experience|Salary|\n",
      "+-----+---+----------+------+\n",
      "|Alice| 30|         5| 60000|\n",
      "|  Bob| 28|         3| 50000|\n",
      "|Carol| 35|         8| 75000|\n",
      "|Emily| 27|         2| 48000|\n",
      "|Frank| 40|        12| 90000|\n",
      "|Henry| 33|         7| 70000|\n",
      "+-----+---+----------+------+\n",
      "\n"
     ]
    }
   ],
   "source": [
    "# Drop the NULL values\n",
    "drop_null_df = df.na.drop()\n",
    "drop_null_df.show()"
   ]
  },
  {
   "cell_type": "code",
   "execution_count": 29,
   "metadata": {},
   "outputs": [
    {
     "name": "stdout",
     "output_type": "stream",
     "text": [
      "+-----+----+----------+------+\n",
      "| Name| Age|Experience|Salary|\n",
      "+-----+----+----------+------+\n",
      "|Alice|  30|         5| 60000|\n",
      "|  Bob|  28|         3| 50000|\n",
      "|Carol|  35|         8| 75000|\n",
      "|David|  32|      NULL| 65000|\n",
      "|Emily|  27|         2| 48000|\n",
      "|Frank|  40|        12| 90000|\n",
      "|Grace|NULL|         4|  NULL|\n",
      "|Henry|  33|         7| 70000|\n",
      "| NULL|  31|         5| 62000|\n",
      "| Jack|  26|         1|  NULL|\n",
      "+-----+----+----------+------+\n",
      "\n"
     ]
    }
   ],
   "source": [
    "# How (all) contraint\n",
    "all_drop_null_df = df.na.drop(how='all')\n",
    "all_drop_null_df.show()"
   ]
  },
  {
   "cell_type": "code",
   "execution_count": 30,
   "metadata": {},
   "outputs": [
    {
     "name": "stdout",
     "output_type": "stream",
     "text": [
      "+-----+---+----------+------+\n",
      "| Name|Age|Experience|Salary|\n",
      "+-----+---+----------+------+\n",
      "|Alice| 30|         5| 60000|\n",
      "|  Bob| 28|         3| 50000|\n",
      "|Carol| 35|         8| 75000|\n",
      "|Emily| 27|         2| 48000|\n",
      "|Frank| 40|        12| 90000|\n",
      "|Henry| 33|         7| 70000|\n",
      "+-----+---+----------+------+\n",
      "\n"
     ]
    }
   ],
   "source": [
    "# DROP - How (any) contraint\n",
    "any_drop_null_df = df.na.drop(how='any')\n",
    "any_drop_null_df.show()"
   ]
  },
  {
   "cell_type": "code",
   "execution_count": 31,
   "metadata": {},
   "outputs": [
    {
     "name": "stdout",
     "output_type": "stream",
     "text": [
      "+-----+---+----------+------+\n",
      "| Name|Age|Experience|Salary|\n",
      "+-----+---+----------+------+\n",
      "|Alice| 30|         5| 60000|\n",
      "|  Bob| 28|         3| 50000|\n",
      "|Carol| 35|         8| 75000|\n",
      "|David| 32|      NULL| 65000|\n",
      "|Emily| 27|         2| 48000|\n",
      "|Frank| 40|        12| 90000|\n",
      "|Henry| 33|         7| 70000|\n",
      "| NULL| 31|         5| 62000|\n",
      "| Jack| 26|         1|  NULL|\n",
      "+-----+---+----------+------+\n",
      "\n"
     ]
    }
   ],
   "source": [
    "# DROP - threshold (it will remove if the number of non null values given in threshold is low).\n",
    "drop_threshold_df = df.na.drop(how='any', thresh=3)\n",
    "drop_threshold_df.show()"
   ]
  },
  {
   "cell_type": "code",
   "execution_count": 32,
   "metadata": {},
   "outputs": [
    {
     "name": "stdout",
     "output_type": "stream",
     "text": [
      "+-----+----+----------+------+\n",
      "| Name| Age|Experience|Salary|\n",
      "+-----+----+----------+------+\n",
      "|Alice|  30|         5| 60000|\n",
      "|  Bob|  28|         3| 50000|\n",
      "|Carol|  35|         8| 75000|\n",
      "|Emily|  27|         2| 48000|\n",
      "|Frank|  40|        12| 90000|\n",
      "|Grace|NULL|         4|  NULL|\n",
      "|Henry|  33|         7| 70000|\n",
      "| NULL|  31|         5| 62000|\n",
      "| Jack|  26|         1|  NULL|\n",
      "+-----+----+----------+------+\n",
      "\n"
     ]
    }
   ],
   "source": [
    "# DROP - Subset (want to filter out NULL values of particular column then we will use subset).\n",
    "drop_subset_df = df.na.drop(how='any', subset=['Experience'])\n",
    "drop_subset_df.show()"
   ]
  },
  {
   "cell_type": "code",
   "execution_count": 33,
   "metadata": {},
   "outputs": [
    {
     "name": "stdout",
     "output_type": "stream",
     "text": [
      "+--------------+----+----------+------+\n",
      "|          Name| Age|Experience|Salary|\n",
      "+--------------+----+----------+------+\n",
      "|         Alice|  30|         5| 60000|\n",
      "|           Bob|  28|         3| 50000|\n",
      "|         Carol|  35|         8| 75000|\n",
      "|         David|  32|        -1| 65000|\n",
      "|         Emily|  27|         2| 48000|\n",
      "|         Frank|  40|        12| 90000|\n",
      "|         Grace|NULL|         4|    -1|\n",
      "|         Henry|  33|         7| 70000|\n",
      "|Missing Values|  31|         5| 62000|\n",
      "|          Jack|  26|         1|    -1|\n",
      "+--------------+----+----------+------+\n",
      "\n"
     ]
    }
   ],
   "source": [
    "# Filling the missing value in respect of its datatype.\n",
    "# Subset is the list of columns where we want to fill the missing values\n",
    "# fill_df = df.na.fill(-1)\n",
    "fill_df = df.na.fill(-1,  subset = ['Experience', 'Salary'])\n",
    "fill_df = fill_df.na.fill('Missing Values')\n",
    "fill_df.show()"
   ]
  },
  {
   "cell_type": "code",
   "execution_count": 38,
   "metadata": {},
   "outputs": [
    {
     "name": "stdout",
     "output_type": "stream",
     "text": [
      "+-----+----+----------+------+-----------+------------------+--------------+\n",
      "| Name| Age|Experience|Salary|Age_imputed|Experience_imputed|Salary_imputed|\n",
      "+-----+----+----------+------+-----------+------------------+--------------+\n",
      "|Alice|  30|         5| 60000|         30|                 5|         60000|\n",
      "|  Bob|  28|         3| 50000|         28|                 3|         50000|\n",
      "|Carol|  35|         8| 75000|         35|                 8|         75000|\n",
      "|David|  32|      NULL| 65000|         32|                 5|         65000|\n",
      "|Emily|  27|         2| 48000|         27|                 2|         48000|\n",
      "|Frank|  40|        12| 90000|         40|                12|         90000|\n",
      "|Grace|NULL|         4|  NULL|         31|                 4|         62000|\n",
      "|Henry|  33|         7| 70000|         33|                 7|         70000|\n",
      "| NULL|  31|         5| 62000|         31|                 5|         62000|\n",
      "| Jack|  26|         1|  NULL|         26|                 1|         62000|\n",
      "+-----+----+----------+------+-----------+------------------+--------------+\n",
      "\n"
     ]
    }
   ],
   "source": [
    "# Filling the NULL values in `Experience` column with mean of `Experience` values\n",
    "from pyspark.ml.feature import Imputer\n",
    "imputer = Imputer(\n",
    "    inputCols=['Age', 'Experience', 'Salary'],\n",
    "    outputCols=[\"{}_imputed\".format(m) for m in ['Age', 'Experience', 'Salary']]\n",
    ").setStrategy('median')\n",
    "\n",
    "fill_imputer_df = imputer.fit(df).transform(df)\n",
    "fill_imputer_df.show()"
   ]
  },
  {
   "cell_type": "code",
   "execution_count": null,
   "metadata": {},
   "outputs": [],
   "source": []
  }
 ],
 "metadata": {
  "kernelspec": {
   "display_name": "venv",
   "language": "python",
   "name": "python3"
  },
  "language_info": {
   "codemirror_mode": {
    "name": "ipython",
    "version": 3
   },
   "file_extension": ".py",
   "mimetype": "text/x-python",
   "name": "python",
   "nbconvert_exporter": "python",
   "pygments_lexer": "ipython3",
   "version": "3.9.6"
  }
 },
 "nbformat": 4,
 "nbformat_minor": 2
}
